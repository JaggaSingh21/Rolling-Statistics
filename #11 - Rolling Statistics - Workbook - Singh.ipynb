{
 "cells": [
  {
   "cell_type": "markdown",
   "metadata": {},
   "source": [
    "# Jagwinder Singh   "
   ]
  },
  {
   "cell_type": "markdown",
   "metadata": {},
   "source": [
    "## Complete the notebook\n",
    "(version 11/09/2020)"
   ]
  },
  {
   "cell_type": "markdown",
   "metadata": {},
   "source": [
    "## Rolling Statistics"
   ]
  },
  {
   "cell_type": "markdown",
   "metadata": {
    "scrolled": false
   },
   "source": [
    "### List at least three types of rolling statistics. Include what they do. \n",
    "(Enter your answers here; Double space after each answer to maintain list style; Use complete sentences)  \n",
    "1) Rolling mean is a moving average is a calculation to analyze data points by creating a series of averages of different subsets of the full data set.  \n",
    "2) Rolling Standard Deviation is a statistical measurement of market volatility. It is derived by calculating an 'n' time period Simple Moving Average of the data item. It then sums the squares of the difference between the data item and its Moving Average over each of the preceding 'n' time periods.  \n",
    "3) Rolling Correlation is are simply applying a correlation between two time series (say sales of product x and product y) as a rolling window calculation.  "
   ]
  },
  {
   "cell_type": "markdown",
   "metadata": {},
   "source": [
    "### What is the custom rolling statistic called and why?\n",
    "A rolling statistic is a calculation to analyze data points by creating a series of averages of different subsets of the full data set."
   ]
  },
  {
   "cell_type": "markdown",
   "metadata": {},
   "source": [
    "### Loading the data and pickling it to for this Notebook (Percent Change - Single Starting Point data set)\n",
    "(Run the code in cell below; Part 1 of 2)"
   ]
  },
  {
   "cell_type": "code",
   "execution_count": null,
   "metadata": {},
   "outputs": [],
   "source": [
    "# Loading a percent change from a Single Starting Point into a dataframe then a Pickle for this lesson\n",
    "import quandl\n",
    "import pandas as pd\n",
    "import matplotlib.pyplot as plt\n",
    "from matplotlib import style\n",
    "# No Style declared - the default will be used automatically"
   ]
  },
  {
   "cell_type": "markdown",
   "metadata": {},
   "source": [
    "(Run the code in cell below; Part 2 of 2)"
   ]
  },
  {
   "cell_type": "code",
   "execution_count": null,
   "metadata": {
    "scrolled": false
   },
   "outputs": [],
   "source": [
    "# Not necessary, I just do this so I do not show my API key\n",
    "api_key = open('quandlapikey.txt','r').read()\n",
    "\n",
    "# Getting the Postal codes\n",
    "fifty_states = pd.read_html('https://www.infoplease.com/us/postal-information/state-abbreviations-and-state-postal-codes')\n",
    "fifty_states = fifty_states[0]['Postal Code']\n",
    "\n",
    "# Creating an empty Dataframe\n",
    "main_df = pd.DataFrame()\n",
    "\n",
    "for abbv in fifty_states: # Looping through the Postal codes\n",
    "    query = \"FMAC/HPI_\"+str(abbv)\n",
    "    df = quandl.get(query, authtoken=api_key) # Getting the data from Quandl\n",
    "    df = df[['NSA Value']] # Removing all other unused columns\n",
    "    df.rename(columns={'NSA Value':abbv}, inplace=True) # Renaming the only column\n",
    "    df[abbv] = (df[abbv]-df[abbv][0]) / df[abbv][0] * 100.0 # Converting the 'Raw' data column into a SSP percent change column\n",
    "    \n",
    "    # Adding the column to the Dataframe\n",
    "    if main_df.empty:\n",
    "        main_df = df\n",
    "    else:\n",
    "        main_df = main_df.join(df)\n",
    "            \n",
    "main_df.to_pickle('fifty_states_Pct_SSP_data.pickle') # Pickling the SSP percent change Dataframe"
   ]
  },
  {
   "cell_type": "markdown",
   "metadata": {},
   "source": [
    "### Load data"
   ]
  },
  {
   "cell_type": "markdown",
   "metadata": {},
   "source": [
    "1) Read the pickle into a DataFrame named States_HPI_Pct_SSP; Display the first three rows of the head"
   ]
  },
  {
   "cell_type": "code",
   "execution_count": null,
   "metadata": {},
   "outputs": [],
   "source": [
    "States_HPI_Pct_SSP = pd.read_pickle('fifty_states_Pct_SSP_data.pickle')\n",
    "print(States_HPI_Pct_SSP.head(3))"
   ]
  },
  {
   "cell_type": "markdown",
   "metadata": {},
   "source": [
    "### Rolling Mean"
   ]
  },
  {
   "cell_type": "markdown",
   "metadata": {},
   "source": [
    "2) Enter code to do a rolling 10 month average of FL into a new column labeled FL10MA in the existing Dataframe  \n",
    "- Display the first 15 lines of the head (only FL and FL10MA data)  \n",
    "- Graph FL and FL10MA together; show legend  "
   ]
  },
  {
   "cell_type": "code",
   "execution_count": null,
   "metadata": {},
   "outputs": [],
   "source": [
    "States_HPI_Pct_SSP['FL10MA'] = States_HPI_Pct_SSP['FL'].rolling(window=10).mean()\n",
    "print(States_HPI_Pct_SSP[['FL','FL10MA']].head(15))\n",
    "\n",
    "States_HPI_Pct_SSP[['FL','FL10MA']].plot()\n",
    "plt.legend()\n",
    "plt.show()"
   ]
  },
  {
   "cell_type": "markdown",
   "metadata": {},
   "source": [
    "### Rolling Standard Deviation"
   ]
  },
  {
   "cell_type": "markdown",
   "metadata": {},
   "source": [
    "3) Reload the pickle to refresh the Dataframe    \n",
    "- Write the code for a 8 month rolling mean of FL into a column FL8MA  \n",
    "- Write the code for a 8 month rolling standard deviation of FL into a column FL8STD  \n",
    "- Show the first 10 lines of the head (only FL, FL8MA and FL8STD)  \n",
    "- Graph FL and FL8MA in one graph; show legend. Additionally, place the FL8STD on a seperate graph in the same figure, aligning the dates between the two graphs"
   ]
  },
  {
   "cell_type": "code",
   "execution_count": null,
   "metadata": {},
   "outputs": [],
   "source": [
    "States_HPI_Pct_SSP = pd.read_pickle('fifty_states_Pct_SSP_data.pickle')\n",
    "\n",
    "States_HPI_Pct_SSP['FL8MA'] = States_HPI_Pct_SSP['FL'].rolling(window=8).mean()\n",
    "States_HPI_Pct_SSP['FL8STD'] = States_HPI_Pct_SSP['FL'].rolling(window=8).std()\n",
    "\n",
    "print(States_HPI_Pct_SSP[['FL','FL8MA','FL8STD']].head(10))\n",
    "\n",
    "fig = plt.figure()\n",
    "ax1 = plt.subplot2grid((2,1), (0,0))\n",
    "ax2 = plt.subplot2grid((2,1), (1,0), sharex=ax1)\n",
    "\n",
    "States_HPI_Pct_SSP[['FL','FL8MA']].plot(ax=ax1)\n",
    "States_HPI_Pct_SSP['FL8STD'].plot(ax=ax2)\n",
    "plt.legend()\n",
    "plt.show()\n"
   ]
  },
  {
   "cell_type": "markdown",
   "metadata": {},
   "source": [
    "4) Why is FL8STD on a seperate graph in the same figure?  \n",
    "FL8STD is on a seperate graph because this allows us to zoom in on one graph and the other zooms in to the same point."
   ]
  },
  {
   "cell_type": "markdown",
   "metadata": {},
   "source": [
    "### Rolling Correlation"
   ]
  },
  {
   "cell_type": "markdown",
   "metadata": {},
   "source": [
    "5) Reload the pickle to refresh the Dataframe \n",
    "- Write the code for a 6 month rolling correlation between FL and CA and place the result in a new column labeled FL_CA_6corr \n",
    "- Plot FL, CA and FL_CA_6corr in one figure, show legend. FL and CA should be in one graph and place the FL_CA_15corr on a seperate graph in the same figure; Align the dates between the two graphs"
   ]
  },
  {
   "cell_type": "code",
   "execution_count": null,
   "metadata": {},
   "outputs": [],
   "source": [
    "States_HPI_Pct_SSP = pd.read_pickle('fifty_states_Pct_SSP_data.pickle')\n",
    "\n",
    "States_HPI_Pct_SSP['FL_CA_6corr'] = States_HPI_Pct_SSP['FL'].rolling(6).corr(States_HPI_Pct_SSP['CA'])\n",
    "\n",
    "fig = plt.figure()\n",
    "ax1 = plt.subplot2grid((2,1), (0,0))\n",
    "ax2 = plt.subplot2grid((2,1), (1,0), sharex=ax1)\n",
    "\n",
    "States_HPI_Pct_SSP[['FL','CA']].plot(ax=ax1)\n",
    "\n",
    "States_HPI_Pct_SSP['FL_CA_6corr'].plot(ax=ax2)\n",
    "\n",
    "plt.show()"
   ]
  }
 ],
 "metadata": {
  "kernelspec": {
   "display_name": "Python 3",
   "language": "python",
   "name": "python3"
  },
  "language_info": {
   "codemirror_mode": {
    "name": "ipython",
    "version": 3
   },
   "file_extension": ".py",
   "mimetype": "text/x-python",
   "name": "python",
   "nbconvert_exporter": "python",
   "pygments_lexer": "ipython3",
   "version": "3.8.5"
  }
 },
 "nbformat": 4,
 "nbformat_minor": 2
}
